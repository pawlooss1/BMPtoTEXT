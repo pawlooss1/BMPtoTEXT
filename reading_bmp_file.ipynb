{
 "cells": [
  {
   "cell_type": "code",
   "execution_count": 49,
   "metadata": {},
   "outputs": [],
   "source": [
    "import numpy as np\n",
    "import re\n",
    "import sys\n",
    "import os"
   ]
  },
  {
   "cell_type": "code",
   "execution_count": 50,
   "metadata": {},
   "outputs": [],
   "source": [
    "def decode_n_bytes(image, n):\n",
    "    word = image.read(n)\n",
    "    return int.from_bytes(word, byteorder='little')"
   ]
  },
  {
   "cell_type": "code",
   "execution_count": 112,
   "metadata": {},
   "outputs": [],
   "source": [
    "def get_metadata(file_name):\n",
    "    image = open(file_name, 'rb')\n",
    "    trash = image.read(2)\n",
    "    size = decode_n_bytes(image, 4)\n",
    "    trash = image.read(4)\n",
    "    offset = decode_n_bytes(image, 4)\n",
    "    trash = image.read(4)\n",
    "    width = decode_n_bytes(image, 4)\n",
    "    height = decode_n_bytes(image, 4)\n",
    "    trash = image.read(2)\n",
    "    bpp = decode_n_bytes(image, 2)\n",
    "    print(bpp)\n",
    "    bytes_per_pixel = bpp // 8\n",
    "    return (size, offset, width, height, bytes_per_pixel)"
   ]
  },
  {
   "cell_type": "code",
   "execution_count": 113,
   "metadata": {},
   "outputs": [],
   "source": [
    "def image_to_array_grey(file_name):\n",
    "    meta = get_metadata(file_name)\n",
    "    offset = meta[1]\n",
    "    width = meta[2]\n",
    "    height = meta[3]\n",
    "    bpp = meta[4]\n",
    "    image = open(file_name, 'rb')\n",
    "    trash = image.read(offset)\n",
    "    array = np.empty((height, width * 2), dtype = int)\n",
    "    for i in range(height):\n",
    "        for j in range(0, width * 2, 2):\n",
    "            byte = image.read(1)\n",
    "            number = int.from_bytes(byte, byteorder='big')\n",
    "            array[height-1-i][j] = number\n",
    "            array[height-1-i][j+1] = number\n",
    "            image.read(bpp - 1)\n",
    "    return array"
   ]
  },
  {
   "cell_type": "code",
   "execution_count": 125,
   "metadata": {},
   "outputs": [],
   "source": [
    "def image_to_array_colour(file_name):\n",
    "    meta = get_metadata(file_name)\n",
    "    offset = meta[1]\n",
    "    width = meta[2]\n",
    "    height = meta[3]\n",
    "    bpp = meta[4]\n",
    "    if (width * bpp) % 4 == 0:\n",
    "        fill_to_4 = 0\n",
    "    else:\n",
    "        fill_to_4 = 4 - (width * bpp) % 4\n",
    "    print(height, width, bpp)\n",
    "    image = open(file_name, 'rb')\n",
    "    trash = image.read(offset)\n",
    "    array = np.empty((height, width * 2), dtype = int)\n",
    "    for i in range(height):\n",
    "        for j in range(0, width * 2, 2):\n",
    "            sum = 0\n",
    "            for k in range(bpp):\n",
    "                byte = image.read(1)\n",
    "                sum = sum + int.from_bytes(byte, byteorder='big')            \n",
    "            mean = sum / bpp\n",
    "            array[height-1-i][j] = mean\n",
    "            array[height-1-i][j+1] = mean\n",
    "        if fill_to_4 > 0:\n",
    "            trash = image.read(fill_to_4)\n",
    "    return array"
   ]
  },
  {
   "cell_type": "code",
   "execution_count": 115,
   "metadata": {},
   "outputs": [],
   "source": [
    "#function to convert number to char\n",
    "def num2char(numArray):\n",
    "    [r1, r2, r3, r4, r5, r6, r7] = [np.array([range(0,37)]), np.array([range(37,74)]), np.array([range(74,111)]),\n",
    "                            np.array([range(111,147)]), np.array([range(147,184)]), np.array([range(184,220)]),\n",
    "                            np.array([range(220,256)])]\n",
    "    charArray = ['.', ',', '-', ':', '+', '$', '#']\n",
    "    fullArrayStrNeg = \"\"\n",
    "    fullArrayStrPos = \"\"\n",
    "    for i in numArray:\n",
    "        for j in i:\n",
    "            if j in r1:\n",
    "                fullArrayStrNeg += charArray[0]\n",
    "                fullArrayStrPos += charArray[6]\n",
    "            elif j in r2:\n",
    "                fullArrayStrNeg += charArray[1]\n",
    "                fullArrayStrPos += charArray[5]\n",
    "            elif j in r3:\n",
    "                fullArrayStrNeg += charArray[2]\n",
    "                fullArrayStrPos += charArray[4]\n",
    "            elif j in r4:\n",
    "                fullArrayStrNeg += charArray[3]\n",
    "                fullArrayStrPos += charArray[3]\n",
    "            elif j in r5:\n",
    "                fullArrayStrNeg += charArray[4]\n",
    "                fullArrayStrPos += charArray[2]\n",
    "            elif j in r6:\n",
    "                fullArrayStrNeg += charArray[5]\n",
    "                fullArrayStrPos += charArray[1]\n",
    "            else:\n",
    "                fullArrayStrNeg += charArray[6]\n",
    "                fullArrayStrPos += charArray[0]\n",
    "        fullArrayStrNeg += '\\n'\n",
    "        fullArrayStrPos += '\\n'\n",
    "    return fullArrayStrNeg, fullArrayStrPos"
   ]
  },
  {
   "cell_type": "code",
   "execution_count": 116,
   "metadata": {},
   "outputs": [],
   "source": [
    "def write2file(charArrayNeg, charArrayPos):\n",
    "    finalFileNeg = open(\"finalFileNeg.txt\",\"w\")\n",
    "    finalFileNeg.write(charArrayNeg)\n",
    "    finalFilePos = open(\"finalFilePos.txt\",\"w\")\n",
    "    finalFilePos.write(charArrayPos)"
   ]
  },
  {
   "cell_type": "code",
   "execution_count": 127,
   "metadata": {},
   "outputs": [
    {
     "name": "stdout",
     "output_type": "stream",
     "text": [
      "24\n",
      "627 1200 3\n"
     ]
    }
   ],
   "source": [
    "#getting argument (numpy array)\n",
    "hexArray = image_to_array_colour(\"ludzie.bmp\")\n",
    "charArrNeg, charArrPos = num2char(hexArray)\n",
    "write2file(charArrNeg, charArrPos)"
   ]
  },
  {
   "cell_type": "code",
   "execution_count": null,
   "metadata": {},
   "outputs": [],
   "source": []
  }
 ],
 "metadata": {
  "kernelspec": {
   "display_name": "Python 3",
   "language": "python",
   "name": "python3"
  },
  "language_info": {
   "codemirror_mode": {
    "name": "ipython",
    "version": 3
   },
   "file_extension": ".py",
   "mimetype": "text/x-python",
   "name": "python",
   "nbconvert_exporter": "python",
   "pygments_lexer": "ipython3",
   "version": "3.7.1"
  }
 },
 "nbformat": 4,
 "nbformat_minor": 2
}
