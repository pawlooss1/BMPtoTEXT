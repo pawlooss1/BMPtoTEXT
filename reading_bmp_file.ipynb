{
 "cells": [
  {
   "cell_type": "code",
   "execution_count": 40,
   "metadata": {},
   "outputs": [],
   "source": [
    "import numpy as np\n",
    "import os"
   ]
  },
  {
   "cell_type": "code",
   "execution_count": 83,
   "metadata": {},
   "outputs": [],
   "source": [
    "def decode_n_bytes(image, n):\n",
    "    word = image.read(n)\n",
    "    return int.from_bytes(word, byteorder='little')"
   ]
  },
  {
   "cell_type": "code",
   "execution_count": 93,
   "metadata": {},
   "outputs": [],
   "source": [
    "def image_to_array(file_name):\n",
    "    image = open('ludzie.bmp', 'rb')\n",
    "    trash = image.read(2)\n",
    "    size = decode_n_bytes(image, 4)\n",
    "    trash = image.read(4)\n",
    "    offset = decode_n_bytes(image, 4)\n",
    "    trash = image.read(4)\n",
    "    width = decode_n_bytes(image, 4)\n",
    "    height = decode_n_bytes(image, 4)\n",
    "    trash = image.read(2)\n",
    "    bpp = decode_n_bytes(image, 2)\n",
    "    bytes_per_pixel = bpp // 8\n",
    "    image = open('ludzie.bmp', 'rb')\n",
    "    trash = image.read(offset)\n",
    "    array = np.empty((height, width), dtype = int)\n",
    "    for i in range(height):\n",
    "        for j in range(width):\n",
    "            byte = image.read(1)\n",
    "            number = int.from_bytes(byte, byteorder='big')\n",
    "            array[height-1-i][j] = number\n",
    "            image.read(bytes_per_pixel - 1)\n",
    "    return array"
   ]
  },
  {
   "cell_type": "code",
   "execution_count": 94,
   "metadata": {},
   "outputs": [
    {
     "data": {
      "text/plain": [
       "array([[225, 225, 226, ..., 109, 108, 105],\n",
       "       [226, 226, 226, ..., 115, 110, 109],\n",
       "       [227, 227, 227, ..., 115, 114, 111],\n",
       "       ...,\n",
       "       [217, 218, 217, ...,  81,  78,  76],\n",
       "       [217, 217, 216, ...,  79,  76,  74],\n",
       "       [217, 216, 216, ...,  80,  76,  74]])"
      ]
     },
     "execution_count": 94,
     "metadata": {},
     "output_type": "execute_result"
    }
   ],
   "source": [
    "image_to_array('ludzie.bmp')"
   ]
  }
 ],
 "metadata": {
  "kernelspec": {
   "display_name": "Python 3",
   "language": "python",
   "name": "python3"
  },
  "language_info": {
   "codemirror_mode": {
    "name": "ipython",
    "version": 3
   },
   "file_extension": ".py",
   "mimetype": "text/x-python",
   "name": "python",
   "nbconvert_exporter": "python",
   "pygments_lexer": "ipython3",
   "version": "3.7.1"
  }
 },
 "nbformat": 4,
 "nbformat_minor": 2
}
