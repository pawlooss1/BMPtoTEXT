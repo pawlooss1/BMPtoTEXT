{
 "cells": [
  {
   "cell_type": "code",
   "execution_count": 185,
   "metadata": {},
   "outputs": [],
   "source": [
    "import numpy as np\n",
    "import re\n",
    "import sys\n",
    "import reading_bmp_file as read"
   ]
  },
  {
   "cell_type": "code",
   "execution_count": 173,
   "metadata": {},
   "outputs": [],
   "source": [
    "#function to convert number to char\n",
    "def num2char(numArray):\n",
    "    [r1, r2, r3, r4, r5] = [np.array([range(0,50)]), np.array([range(50,100)]), np.array([range(100,150)]),\n",
    "                    np.array([range(150,200)]), np.array([range(200,256)])]\n",
    "    charArray = [' ', '-', ':', '$', '#']\n",
    "    # first num = height, second num = width\n",
    "#     numArrayWidth = numArray.shape[1]\n",
    "#     numArrayHeight = numArray.shape[0]\n",
    "#     fullArray = np.empty([numArrayHeight, numArrayWidth], dtype = str)\n",
    "    fullArrayStr = \"\"\n",
    "#     outterIterator = 0\n",
    "    for i in numArray:\n",
    "#         insideIterator = 0\n",
    "        for j in i:\n",
    "            if j in r1:\n",
    "#                 tempArray = np.append(tempArray,[charArray[0]])\n",
    "#                 fullArray[outterIterator, insideIterator] = charArray[0]\n",
    "                fullArrayStr += charArray[0]\n",
    "            elif j in r2:\n",
    "#                 tempArray = np.append(tempArray, [charArray[1]])\n",
    "#                 fullArray[outterIterator, insideIterator] = charArray[1]\n",
    "                fullArrayStr += charArray[1]\n",
    "            elif j in r3:\n",
    "#                 tempArray = np.append(tempArray, [charArray[2]])\n",
    "#                 fullArray[outterIterator, insideIterator] = charArray[2]\n",
    "                fullArrayStr += charArray[2]\n",
    "            elif j in r4:\n",
    "#                 tempArray = np.append(tempArray, [charArray[3]])\n",
    "#                 fullArray[outterIterator, insideIterator] = charArray[3]\n",
    "                fullArrayStr += charArray[3]\n",
    "            else:\n",
    "#                 tempArray = np.append(tempArray, [charArray[4]])\n",
    "#                 fullArray[outterIterator, insideIterator] = charArray[4]\n",
    "                fullArrayStr += charArray[4]\n",
    "#             insideIterator = insideIterator + 1\n",
    "#         outterIterator = outterIterator + 1\n",
    "        fullArrayStr += '\\n'\n",
    "    return fullArrayStr"
   ]
  },
  {
   "cell_type": "code",
   "execution_count": 174,
   "metadata": {},
   "outputs": [],
   "source": [
    "def write2file(charArray):\n",
    "    finalFile = open(\"finalFile.txt\",\"w\")\n",
    "    finalFile.write(charArray)"
   ]
  },
  {
   "cell_type": "code",
   "execution_count": 186,
   "metadata": {},
   "outputs": [],
   "source": [
    "#getting argument (numpy array)\n",
    "hexArray = read.image_to_array(\"ludzie.bmp\")\n",
    "num2char(hexArray)\n",
    "write2file(num2char(hexArray))"
   ]
  }
 ],
 "metadata": {
  "kernelspec": {
   "display_name": "Python 3",
   "language": "python",
   "name": "python3"
  },
  "language_info": {
   "codemirror_mode": {
    "name": "ipython",
    "version": 3
   },
   "file_extension": ".py",
   "mimetype": "text/x-python",
   "name": "python",
   "nbconvert_exporter": "python",
   "pygments_lexer": "ipython3",
   "version": "3.6.5"
  }
 },
 "nbformat": 4,
 "nbformat_minor": 2
}
