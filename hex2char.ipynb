{
 "cells": [
  {
   "cell_type": "code",
   "execution_count": 7,
   "metadata": {},
   "outputs": [],
   "source": [
    "import numpy as np\n",
    "import re\n",
    "import sys, os\n",
    "import reading_bmp_file as read\n"
   ]
  },
  {
   "cell_type": "code",
   "execution_count": 9,
   "metadata": {},
   "outputs": [],
   "source": [
    "#function to convert number to char\n",
    "def num2char(numArray):\n",
    "    [r1, r2, r3, r4, r5, r6, r7] = [np.array([range(0,37)]), np.array([range(37,74)]), np.array([range(74,111)]),\n",
    "                            np.array([range(111,147)]), np.array([range(147,184)]), np.array([range(184,220)]),\n",
    "                            np.array([range(220,256)])]\n",
    "    charArray = [' ', ',', '-', ':', '+', '$', '#']\n",
    "    fullArrayStrNeg = \"\"\n",
    "    fullArrayStrPos = \"\"\n",
    "    for i in numArray:\n",
    "        for j in i:\n",
    "            if j in r1:\n",
    "                fullArrayStrNeg += charArray[0]\n",
    "                fullArrayStrPos += charArray[6]\n",
    "            elif j in r2:\n",
    "                fullArrayStrNeg += charArray[1]\n",
    "                fullArrayStrPos += charArray[5]\n",
    "            elif j in r3:\n",
    "                fullArrayStrNeg += charArray[2]\n",
    "                fullArrayStrPos += charArray[4]\n",
    "            elif j in r4:\n",
    "                fullArrayStrNeg += charArray[3]\n",
    "                fullArrayStrPos += charArray[3]\n",
    "            elif j in r5:\n",
    "                fullArrayStrNeg += charArray[4]\n",
    "                fullArrayStrPos += charArray[2]\n",
    "            elif j in r6:\n",
    "                fullArrayStrNeg += charArray[5]\n",
    "                fullArrayStrPos += charArray[1]\n",
    "            else:\n",
    "                fullArrayStrNeg += charArray[6]\n",
    "                fullArrayStrPos += charArray[0]\n",
    "        fullArrayStrNeg += '\\n'\n",
    "        fullArrayStrPos += '\\n'\n",
    "    return fullArrayStrNeg, fullArrayStrPos"
   ]
  },
  {
   "cell_type": "code",
   "execution_count": 11,
   "metadata": {},
   "outputs": [],
   "source": [
    "def write2file(charArrayNeg, charArrayPos):\n",
    "    finalFileNeg = open(\"finalFileNeg.txt\",\"w\")\n",
    "    finalFileNeg.write(charArrayNeg)\n",
    "    finalFilePos = open(\"finalFilePos.txt\",\"w\")\n",
    "    finalFilePos.write(charArrayPos)"
   ]
  },
  {
   "cell_type": "code",
   "execution_count": 5,
   "metadata": {},
   "outputs": [],
   "source": [
    "#getting argument (numpy array)\n",
    "args = str(sys.argv)\n",
    "if len(args) == 2:\n",
    "    if os.path.isfile(args[1]):\n",
    "        hexArray = read.image_to_array(args[1])\n",
    "        charArrNeg, charArrPos = num2char(hexArray)\n",
    "        write2file(charArrNeg, charArrPos)\n",
    "    else:\n",
    "        print(\"Can't find this image, sorry.\")\n",
    "else:\n",
    "    print(\"Wrong number of arguments\")"
   ]
  }
 ],
 "metadata": {
  "kernelspec": {
   "display_name": "Python 3",
   "language": "python",
   "name": "python3"
  },
  "language_info": {
   "codemirror_mode": {
    "name": "ipython",
    "version": 3
   },
   "file_extension": ".py",
   "mimetype": "text/x-python",
   "name": "python",
   "nbconvert_exporter": "python",
   "pygments_lexer": "ipython3",
   "version": "3.6.5"
  }
 },
 "nbformat": 4,
 "nbformat_minor": 2
}
