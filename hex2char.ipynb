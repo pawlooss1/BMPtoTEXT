{
 "cells": [
  {
   "cell_type": "code",
   "execution_count": 191,
   "metadata": {},
   "outputs": [],
   "source": [
    "import numpy as np\n",
    "import re\n",
    "import sys\n",
    "import reading_bmp_file as read"
   ]
  },
  {
   "cell_type": "code",
   "execution_count": 190,
   "metadata": {},
   "outputs": [],
   "source": [
    "#function to convert number to char\n",
    "def num2char(numArray):\n",
    "    [r1, r2, r3, r4, r5] = [np.array([range(0,50)]), np.array([range(50,100)]), np.array([range(100,150)]),\n",
    "                    np.array([range(150,200)]), np.array([range(200,256)])]\n",
    "    charArray = [' ', '-', ':', '$', '#']\n",
    "    fullArrayStrNeg = \"\"\n",
    "    fullArrayStrPos = \"\"\n",
    "    for i in numArray:\n",
    "        for j in i:\n",
    "            if j in r1:\n",
    "                fullArrayStrNeg += charArray[0]\n",
    "                fullArrayStrPos += charArray[4]\n",
    "            elif j in r2:\n",
    "                fullArrayStrNeg += charArray[1]\n",
    "                fullArrayStrPos += charArray[3]\n",
    "            elif j in r3:\n",
    "                fullArrayStrNeg += charArray[2]\n",
    "                fullArrayStrPos += charArray[2]\n",
    "            elif j in r4:\n",
    "                fullArrayStrNeg += charArray[3]\n",
    "                fullArrayStrPos += charArray[1]\n",
    "            else:\n",
    "                fullArrayStrNeg += charArray[4]\n",
    "                fullArrayStrPos += charArray[0]\n",
    "        fullArrayStrNeg += '\\n'\n",
    "        fullArrayStrPos += '\\n'\n",
    "    return fullArrayStrNeg, fullArrayStrPos"
   ]
  },
  {
   "cell_type": "code",
   "execution_count": 189,
   "metadata": {},
   "outputs": [],
   "source": [
    "def write2file(charArrayNeg, charArrayPos):\n",
    "    finalFileNeg = open(\"finalFileNeg.txt\",\"w\")\n",
    "    finalFileNeg.write(charArrayNeg)\n",
    "    finalFilePos = open(\"finalFilePos.txt\",\"w\")\n",
    "    finalFilePos.write(charArrayPos)"
   ]
  },
  {
   "cell_type": "code",
   "execution_count": 193,
   "metadata": {},
   "outputs": [
    {
     "ename": "NameError",
     "evalue": "name 'charArrayNeg' is not defined",
     "output_type": "error",
     "traceback": [
      "\u001b[0;31m---------------------------------------------------------------------------\u001b[0m",
      "\u001b[0;31mNameError\u001b[0m                                 Traceback (most recent call last)",
      "\u001b[0;32m<ipython-input-193-4f07992f5f18>\u001b[0m in \u001b[0;36m<module>\u001b[0;34m()\u001b[0m\n\u001b[1;32m      2\u001b[0m \u001b[0mhexArray\u001b[0m \u001b[0;34m=\u001b[0m \u001b[0mread\u001b[0m\u001b[0;34m.\u001b[0m\u001b[0mimage_to_array\u001b[0m\u001b[0;34m(\u001b[0m\u001b[0;34m\"ludzie.bmp\"\u001b[0m\u001b[0;34m)\u001b[0m\u001b[0;34m\u001b[0m\u001b[0m\n\u001b[1;32m      3\u001b[0m \u001b[0mcharArrNeg\u001b[0m\u001b[0;34m,\u001b[0m \u001b[0mcharArrPos\u001b[0m \u001b[0;34m=\u001b[0m \u001b[0mnum2char\u001b[0m\u001b[0;34m(\u001b[0m\u001b[0mhexArray\u001b[0m\u001b[0;34m)\u001b[0m\u001b[0;34m\u001b[0m\u001b[0m\n\u001b[0;32m----> 4\u001b[0;31m \u001b[0mwrite2file\u001b[0m\u001b[0;34m(\u001b[0m\u001b[0mcharArrayNeg\u001b[0m\u001b[0;34m,\u001b[0m \u001b[0mcharArrayPos\u001b[0m\u001b[0;34m)\u001b[0m\u001b[0;34m\u001b[0m\u001b[0m\n\u001b[0m",
      "\u001b[0;31mNameError\u001b[0m: name 'charArrayNeg' is not defined"
     ]
    }
   ],
   "source": [
    "#getting argument (numpy array)\n",
    "hexArray = read.image_to_array(\"ludzie.bmp\")\n",
    "charArrNeg, charArrPos = num2char(hexArray)\n",
    "write2file(charArr`Neg, charArrPos)"
   ]
  }
 ],
 "metadata": {
  "kernelspec": {
   "display_name": "Python 3",
   "language": "python",
   "name": "python3"
  },
  "language_info": {
   "codemirror_mode": {
    "name": "ipython",
    "version": 3
   },
   "file_extension": ".py",
   "mimetype": "text/x-python",
   "name": "python",
   "nbconvert_exporter": "python",
   "pygments_lexer": "ipython3",
   "version": "3.6.5"
  }
 },
 "nbformat": 4,
 "nbformat_minor": 2
}
